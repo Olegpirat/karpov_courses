{
 "cells": [
  {
   "cell_type": "markdown",
   "metadata": {},
   "source": [
    "## Проект: вариант 2\n",
    "\n",
    "**Задание 1. A/B–тестирование**\n",
    "\n",
    "**1.1 Условие**\n",
    "\n",
    "Одной из основных задач аналитика в нашей команде является корректное проведение экспериментов. Для этого мы применяем метод A/B–тестирования. В ходе тестирования одной гипотезы целевой группе была предложена новая механика оплаты услуг на сайте, у контрольной группы оставалась базовая механика. В качестве задания Вам необходимо проанализировать итоги эксперимента и сделать вывод, стоит ли запускать новую механику оплаты на всех пользователей.\n",
    "\n",
    "**1.2 Входные данные**\n",
    "\n",
    "В качестве входных данных Вы имеете 4 csv-файла:\n",
    "\n",
    "* groups.csv - файл с информацией о принадлежности пользователя к контрольной или экспериментальной группе (А – контроль, B – целевая группа) \n",
    "* groups_add.csv - дополнительный файл с пользователями, который вам прислали спустя 2 дня после передачи данных\n",
    "* active_studs.csv - файл с информацией о пользователях, которые зашли на платформу в дни проведения эксперимента. \n",
    "* checks.csv - файл с информацией об оплатах пользователей в дни проведения эксперимента. \n",
    "\n",
    "**1.3 Вопросы**\n",
    "\n",
    "Предлагаем Вам ответить на следующие вопросы:\n",
    "\n",
    "* На какие метрики Вы смотрите в ходе анализа и почему?\n",
    "* Имеются ли различия в показателях и с чем они могут быть связаны?\n",
    "* Являются ли эти различия статистически значимыми?\n",
    "* Стоит ли запускать новую механику на всех пользователей?\n",
    "* Данный список вопросов не является обязательным, и Вы можете при своём ответе опираться на собственный план.\n"
   ]
  },
  {
   "cell_type": "code",
   "execution_count": 1,
   "metadata": {},
   "outputs": [],
   "source": [
    "import pandas as pd\n",
    "from urllib.parse import urlencode\n",
    "import requests\n",
    "import seaborn as sns\n",
    "import matplotlib.pyplot as plt\n",
    "import matplotlib\n",
    "from sklearn import datasets\n",
    "import numpy as np\n",
    "from scipy.stats import norm \n",
    "import re\n",
    "from IPython.display import Image\n",
    "from IPython.core.display import HTML\n",
    "from tqdm.auto import tqdm\n",
    "import pandahouse as ph"
   ]
  },
  {
   "cell_type": "code",
   "execution_count": 2,
   "metadata": {},
   "outputs": [],
   "source": [
    "# получаем прямую ссылку на файлы\n",
    "# используем api \n",
    "\n",
    "base_url = 'https://cloud-api.yandex.net/v1/disk/public/resources/download?'\n",
    "\n",
    "\n",
    "# ссылки на данные с указанием разделителя csv-файла\n",
    "links_dic = {\n",
    "    'groups': ['https://disk.yandex.ru/d/58Us0DWOzuWAjg', ';'],\n",
    "    'groups_add': ['https://disk.yandex.ru/d/3aARY-P9pfaksg', ','],\n",
    "    'active_studs': ['https://disk.yandex.ru/d/prbgU-rZpiXVYg', ','],\n",
    "    'checks': ['https://disk.yandex.ru/d/84hTmELphW2sqQ', ';']\n",
    "}\n",
    "\n",
    "# получаем url\n",
    "for csv_filename, link in links_dic.items():\n",
    "    final_url = base_url + urlencode(dict(public_key=link[0]))\n",
    "    response = requests.get(final_url)\n",
    "    download_url = response.json()['href']\n",
    "    globals()[csv_filename] = pd.read_csv(download_url, sep=link[1])"
   ]
  },
  {
   "cell_type": "markdown",
   "metadata": {},
   "source": [
    "Проведем анализ данных"
   ]
  },
  {
   "cell_type": "code",
   "execution_count": 3,
   "metadata": {},
   "outputs": [
    {
     "data": {
      "text/html": [
       "<div>\n",
       "<style scoped>\n",
       "    .dataframe tbody tr th:only-of-type {\n",
       "        vertical-align: middle;\n",
       "    }\n",
       "\n",
       "    .dataframe tbody tr th {\n",
       "        vertical-align: top;\n",
       "    }\n",
       "\n",
       "    .dataframe thead th {\n",
       "        text-align: right;\n",
       "    }\n",
       "</style>\n",
       "<table border=\"1\" class=\"dataframe\">\n",
       "  <thead>\n",
       "    <tr style=\"text-align: right;\">\n",
       "      <th></th>\n",
       "      <th>id</th>\n",
       "      <th>grp</th>\n",
       "    </tr>\n",
       "  </thead>\n",
       "  <tbody>\n",
       "    <tr>\n",
       "      <th>0</th>\n",
       "      <td>1489</td>\n",
       "      <td>B</td>\n",
       "    </tr>\n",
       "    <tr>\n",
       "      <th>1</th>\n",
       "      <td>1627</td>\n",
       "      <td>A</td>\n",
       "    </tr>\n",
       "    <tr>\n",
       "      <th>2</th>\n",
       "      <td>1768</td>\n",
       "      <td>B</td>\n",
       "    </tr>\n",
       "    <tr>\n",
       "      <th>3</th>\n",
       "      <td>1783</td>\n",
       "      <td>B</td>\n",
       "    </tr>\n",
       "    <tr>\n",
       "      <th>4</th>\n",
       "      <td>1794</td>\n",
       "      <td>A</td>\n",
       "    </tr>\n",
       "  </tbody>\n",
       "</table>\n",
       "</div>"
      ],
      "text/plain": [
       "     id grp\n",
       "0  1489   B\n",
       "1  1627   A\n",
       "2  1768   B\n",
       "3  1783   B\n",
       "4  1794   A"
      ]
     },
     "execution_count": 3,
     "metadata": {},
     "output_type": "execute_result"
    }
   ],
   "source": [
    "groups.head()"
   ]
  },
  {
   "cell_type": "code",
   "execution_count": 4,
   "metadata": {},
   "outputs": [
    {
     "data": {
      "text/plain": [
       "74484"
      ]
     },
     "execution_count": 4,
     "metadata": {},
     "output_type": "execute_result"
    }
   ],
   "source": [
    "groups.id.nunique()"
   ]
  },
  {
   "cell_type": "code",
   "execution_count": 5,
   "metadata": {},
   "outputs": [
    {
     "data": {
      "text/plain": [
       "id      int64\n",
       "grp    object\n",
       "dtype: object"
      ]
     },
     "execution_count": 5,
     "metadata": {},
     "output_type": "execute_result"
    }
   ],
   "source": [
    "groups.dtypes"
   ]
  },
  {
   "cell_type": "code",
   "execution_count": 6,
   "metadata": {},
   "outputs": [
    {
     "name": "stdout",
     "output_type": "stream",
     "text": [
      "<class 'pandas.core.frame.DataFrame'>\n",
      "RangeIndex: 74484 entries, 0 to 74483\n",
      "Data columns (total 2 columns):\n",
      " #   Column  Non-Null Count  Dtype \n",
      "---  ------  --------------  ----- \n",
      " 0   id      74484 non-null  int64 \n",
      " 1   grp     74484 non-null  object\n",
      "dtypes: int64(1), object(1)\n",
      "memory usage: 1.1+ MB\n"
     ]
    }
   ],
   "source": [
    "groups.info()"
   ]
  },
  {
   "cell_type": "code",
   "execution_count": 7,
   "metadata": {},
   "outputs": [
    {
     "data": {
      "text/plain": [
       "92"
      ]
     },
     "execution_count": 7,
     "metadata": {},
     "output_type": "execute_result"
    }
   ],
   "source": [
    "groups_add.id.nunique()"
   ]
  },
  {
   "cell_type": "code",
   "execution_count": 8,
   "metadata": {},
   "outputs": [
    {
     "data": {
      "text/plain": [
       "id      int64\n",
       "grp    object\n",
       "dtype: object"
      ]
     },
     "execution_count": 8,
     "metadata": {},
     "output_type": "execute_result"
    }
   ],
   "source": [
    "groups_add.dtypes"
   ]
  },
  {
   "cell_type": "code",
   "execution_count": 9,
   "metadata": {},
   "outputs": [
    {
     "name": "stdout",
     "output_type": "stream",
     "text": [
      "<class 'pandas.core.frame.DataFrame'>\n",
      "RangeIndex: 92 entries, 0 to 91\n",
      "Data columns (total 2 columns):\n",
      " #   Column  Non-Null Count  Dtype \n",
      "---  ------  --------------  ----- \n",
      " 0   id      92 non-null     int64 \n",
      " 1   grp     92 non-null     object\n",
      "dtypes: int64(1), object(1)\n",
      "memory usage: 1.6+ KB\n"
     ]
    }
   ],
   "source": [
    "groups_add.info()"
   ]
  },
  {
   "cell_type": "code",
   "execution_count": 10,
   "metadata": {},
   "outputs": [
    {
     "data": {
      "text/html": [
       "<div>\n",
       "<style scoped>\n",
       "    .dataframe tbody tr th:only-of-type {\n",
       "        vertical-align: middle;\n",
       "    }\n",
       "\n",
       "    .dataframe tbody tr th {\n",
       "        vertical-align: top;\n",
       "    }\n",
       "\n",
       "    .dataframe thead th {\n",
       "        text-align: right;\n",
       "    }\n",
       "</style>\n",
       "<table border=\"1\" class=\"dataframe\">\n",
       "  <thead>\n",
       "    <tr style=\"text-align: right;\">\n",
       "      <th></th>\n",
       "      <th>student_id</th>\n",
       "    </tr>\n",
       "  </thead>\n",
       "  <tbody>\n",
       "    <tr>\n",
       "      <th>0</th>\n",
       "      <td>581585</td>\n",
       "    </tr>\n",
       "    <tr>\n",
       "      <th>1</th>\n",
       "      <td>5723133</td>\n",
       "    </tr>\n",
       "    <tr>\n",
       "      <th>2</th>\n",
       "      <td>3276743</td>\n",
       "    </tr>\n",
       "    <tr>\n",
       "      <th>3</th>\n",
       "      <td>4238589</td>\n",
       "    </tr>\n",
       "    <tr>\n",
       "      <th>4</th>\n",
       "      <td>4475369</td>\n",
       "    </tr>\n",
       "  </tbody>\n",
       "</table>\n",
       "</div>"
      ],
      "text/plain": [
       "   student_id\n",
       "0      581585\n",
       "1     5723133\n",
       "2     3276743\n",
       "3     4238589\n",
       "4     4475369"
      ]
     },
     "execution_count": 10,
     "metadata": {},
     "output_type": "execute_result"
    }
   ],
   "source": [
    "active_studs.head()"
   ]
  },
  {
   "cell_type": "code",
   "execution_count": 11,
   "metadata": {},
   "outputs": [
    {
     "data": {
      "text/plain": [
       "student_id    int64\n",
       "dtype: object"
      ]
     },
     "execution_count": 11,
     "metadata": {},
     "output_type": "execute_result"
    }
   ],
   "source": [
    "active_studs.dtypes"
   ]
  },
  {
   "cell_type": "code",
   "execution_count": 12,
   "metadata": {},
   "outputs": [
    {
     "name": "stdout",
     "output_type": "stream",
     "text": [
      "<class 'pandas.core.frame.DataFrame'>\n",
      "RangeIndex: 8341 entries, 0 to 8340\n",
      "Data columns (total 1 columns):\n",
      " #   Column      Non-Null Count  Dtype\n",
      "---  ------      --------------  -----\n",
      " 0   student_id  8341 non-null   int64\n",
      "dtypes: int64(1)\n",
      "memory usage: 65.3 KB\n"
     ]
    }
   ],
   "source": [
    "active_studs.info()"
   ]
  },
  {
   "cell_type": "code",
   "execution_count": 13,
   "metadata": {},
   "outputs": [
    {
     "data": {
      "text/plain": [
       "8341"
      ]
     },
     "execution_count": 13,
     "metadata": {},
     "output_type": "execute_result"
    }
   ],
   "source": [
    "active_studs.student_id.nunique()"
   ]
  },
  {
   "cell_type": "code",
   "execution_count": 14,
   "metadata": {},
   "outputs": [
    {
     "data": {
      "text/plain": [
       "student_id      int64\n",
       "rev           float64\n",
       "dtype: object"
      ]
     },
     "execution_count": 14,
     "metadata": {},
     "output_type": "execute_result"
    }
   ],
   "source": [
    "checks.dtypes"
   ]
  },
  {
   "cell_type": "code",
   "execution_count": 15,
   "metadata": {},
   "outputs": [
    {
     "data": {
      "text/html": [
       "<div>\n",
       "<style scoped>\n",
       "    .dataframe tbody tr th:only-of-type {\n",
       "        vertical-align: middle;\n",
       "    }\n",
       "\n",
       "    .dataframe tbody tr th {\n",
       "        vertical-align: top;\n",
       "    }\n",
       "\n",
       "    .dataframe thead th {\n",
       "        text-align: right;\n",
       "    }\n",
       "</style>\n",
       "<table border=\"1\" class=\"dataframe\">\n",
       "  <thead>\n",
       "    <tr style=\"text-align: right;\">\n",
       "      <th></th>\n",
       "      <th>student_id</th>\n",
       "      <th>rev</th>\n",
       "    </tr>\n",
       "  </thead>\n",
       "  <tbody>\n",
       "    <tr>\n",
       "      <th>0</th>\n",
       "      <td>1627</td>\n",
       "      <td>990.0</td>\n",
       "    </tr>\n",
       "    <tr>\n",
       "      <th>1</th>\n",
       "      <td>3185</td>\n",
       "      <td>690.0</td>\n",
       "    </tr>\n",
       "    <tr>\n",
       "      <th>2</th>\n",
       "      <td>25973</td>\n",
       "      <td>690.0</td>\n",
       "    </tr>\n",
       "    <tr>\n",
       "      <th>3</th>\n",
       "      <td>26280</td>\n",
       "      <td>690.0</td>\n",
       "    </tr>\n",
       "    <tr>\n",
       "      <th>4</th>\n",
       "      <td>100300</td>\n",
       "      <td>990.0</td>\n",
       "    </tr>\n",
       "  </tbody>\n",
       "</table>\n",
       "</div>"
      ],
      "text/plain": [
       "   student_id    rev\n",
       "0        1627  990.0\n",
       "1        3185  690.0\n",
       "2       25973  690.0\n",
       "3       26280  690.0\n",
       "4      100300  990.0"
      ]
     },
     "execution_count": 15,
     "metadata": {},
     "output_type": "execute_result"
    }
   ],
   "source": [
    "checks.head()"
   ]
  },
  {
   "cell_type": "code",
   "execution_count": 16,
   "metadata": {},
   "outputs": [
    {
     "data": {
      "text/plain": [
       "541"
      ]
     },
     "execution_count": 16,
     "metadata": {},
     "output_type": "execute_result"
    }
   ],
   "source": [
    "checks.student_id.nunique()"
   ]
  },
  {
   "cell_type": "code",
   "execution_count": 17,
   "metadata": {},
   "outputs": [
    {
     "name": "stdout",
     "output_type": "stream",
     "text": [
      "<class 'pandas.core.frame.DataFrame'>\n",
      "RangeIndex: 541 entries, 0 to 540\n",
      "Data columns (total 2 columns):\n",
      " #   Column      Non-Null Count  Dtype  \n",
      "---  ------      --------------  -----  \n",
      " 0   student_id  541 non-null    int64  \n",
      " 1   rev         541 non-null    float64\n",
      "dtypes: float64(1), int64(1)\n",
      "memory usage: 8.6 KB\n"
     ]
    }
   ],
   "source": [
    "checks.info()"
   ]
  },
  {
   "cell_type": "markdown",
   "metadata": {},
   "source": [
    "Проверим если ли в файле с дополнительными пользователями информация об оплатах пользователей и информацией о пользователях, которые зашли на платформу в дни проведения эксперимента"
   ]
  },
  {
   "cell_type": "code",
   "execution_count": 18,
   "metadata": {},
   "outputs": [],
   "source": [
    "checks = checks.rename(columns={'student_id':'id'})\n",
    "active_studs = active_studs.rename(columns={'student_id':'id'})"
   ]
  },
  {
   "cell_type": "code",
   "execution_count": 19,
   "metadata": {},
   "outputs": [
    {
     "data": {
      "text/plain": [
       "1"
      ]
     },
     "execution_count": 19,
     "metadata": {},
     "output_type": "execute_result"
    }
   ],
   "source": [
    "checks.merge(groups_add, on= 'id').shape[0]"
   ]
  },
  {
   "cell_type": "code",
   "execution_count": 20,
   "metadata": {},
   "outputs": [
    {
     "data": {
      "text/plain": [
       "13"
      ]
     },
     "execution_count": 20,
     "metadata": {},
     "output_type": "execute_result"
    }
   ],
   "source": [
    "active_studs.merge(groups_add, on= 'id').shape[0]"
   ]
  },
  {
   "cell_type": "markdown",
   "metadata": {},
   "source": [
    "Пользователи есть, следовательно объединяем данные в 1 df"
   ]
  },
  {
   "cell_type": "code",
   "execution_count": 21,
   "metadata": {},
   "outputs": [],
   "source": [
    "groups_total = pd.concat([groups, groups_add])"
   ]
  },
  {
   "cell_type": "code",
   "execution_count": 22,
   "metadata": {},
   "outputs": [
    {
     "data": {
      "text/html": [
       "<div>\n",
       "<style scoped>\n",
       "    .dataframe tbody tr th:only-of-type {\n",
       "        vertical-align: middle;\n",
       "    }\n",
       "\n",
       "    .dataframe tbody tr th {\n",
       "        vertical-align: top;\n",
       "    }\n",
       "\n",
       "    .dataframe thead th {\n",
       "        text-align: right;\n",
       "    }\n",
       "</style>\n",
       "<table border=\"1\" class=\"dataframe\">\n",
       "  <thead>\n",
       "    <tr style=\"text-align: right;\">\n",
       "      <th></th>\n",
       "      <th>id</th>\n",
       "      <th>grp</th>\n",
       "    </tr>\n",
       "  </thead>\n",
       "  <tbody>\n",
       "    <tr>\n",
       "      <th>0</th>\n",
       "      <td>1489</td>\n",
       "      <td>B</td>\n",
       "    </tr>\n",
       "    <tr>\n",
       "      <th>1</th>\n",
       "      <td>1627</td>\n",
       "      <td>A</td>\n",
       "    </tr>\n",
       "    <tr>\n",
       "      <th>2</th>\n",
       "      <td>1768</td>\n",
       "      <td>B</td>\n",
       "    </tr>\n",
       "    <tr>\n",
       "      <th>3</th>\n",
       "      <td>1783</td>\n",
       "      <td>B</td>\n",
       "    </tr>\n",
       "    <tr>\n",
       "      <th>4</th>\n",
       "      <td>1794</td>\n",
       "      <td>A</td>\n",
       "    </tr>\n",
       "  </tbody>\n",
       "</table>\n",
       "</div>"
      ],
      "text/plain": [
       "     id grp\n",
       "0  1489   B\n",
       "1  1627   A\n",
       "2  1768   B\n",
       "3  1783   B\n",
       "4  1794   A"
      ]
     },
     "execution_count": 22,
     "metadata": {},
     "output_type": "execute_result"
    }
   ],
   "source": [
    "groups_total.head()"
   ]
  },
  {
   "cell_type": "code",
   "execution_count": 23,
   "metadata": {},
   "outputs": [
    {
     "name": "stdout",
     "output_type": "stream",
     "text": [
      "<class 'pandas.core.frame.DataFrame'>\n",
      "Int64Index: 74576 entries, 0 to 91\n",
      "Data columns (total 2 columns):\n",
      " #   Column  Non-Null Count  Dtype \n",
      "---  ------  --------------  ----- \n",
      " 0   id      74576 non-null  int64 \n",
      " 1   grp     74576 non-null  object\n",
      "dtypes: int64(1), object(1)\n",
      "memory usage: 1.7+ MB\n"
     ]
    }
   ],
   "source": [
    "groups_total.info()"
   ]
  },
  {
   "cell_type": "code",
   "execution_count": 24,
   "metadata": {},
   "outputs": [
    {
     "data": {
      "text/plain": [
       "B    0.80298\n",
       "A    0.19702\n",
       "Name: grp, dtype: float64"
      ]
     },
     "execution_count": 24,
     "metadata": {},
     "output_type": "execute_result"
    }
   ],
   "source": [
    "groups_total.grp.value_counts(normalize=True)"
   ]
  },
  {
   "cell_type": "code",
   "execution_count": 25,
   "metadata": {},
   "outputs": [
    {
     "data": {
      "text/plain": [
       "74576"
      ]
     },
     "execution_count": 25,
     "metadata": {},
     "output_type": "execute_result"
    }
   ],
   "source": [
    "groups_total.shape[0]"
   ]
  },
  {
   "cell_type": "code",
   "execution_count": 26,
   "metadata": {},
   "outputs": [
    {
     "data": {
      "text/plain": [
       "B    59883\n",
       "A    14693\n",
       "Name: grp, dtype: int64"
      ]
     },
     "execution_count": 26,
     "metadata": {},
     "output_type": "execute_result"
    }
   ],
   "source": [
    "groups_total.grp.value_counts(normalize=False)"
   ]
  },
  {
   "cell_type": "code",
   "execution_count": 27,
   "metadata": {},
   "outputs": [
    {
     "data": {
      "text/plain": [
       "0"
      ]
     },
     "execution_count": 27,
     "metadata": {},
     "output_type": "execute_result"
    }
   ],
   "source": [
    "# проверяем кол-во активных пользовтелей, которых нет в общем списке \n",
    "active_studs.query(' id not in @groups_total.id').shape[0]"
   ]
  },
  {
   "cell_type": "code",
   "execution_count": 28,
   "metadata": {},
   "outputs": [
    {
     "data": {
      "text/plain": [
       "0"
      ]
     },
     "execution_count": 28,
     "metadata": {},
     "output_type": "execute_result"
    }
   ],
   "source": [
    "# проверяем кол-во оплативших пользовтелей, которых нет в общем списке \n",
    "checks.query(' id not in @groups_total.id').shape[0]"
   ]
  },
  {
   "cell_type": "code",
   "execution_count": 29,
   "metadata": {},
   "outputs": [
    {
     "data": {
      "text/plain": [
       "149"
      ]
     },
     "execution_count": 29,
     "metadata": {},
     "output_type": "execute_result"
    }
   ],
   "source": [
    "# проверяем кол-во оплативших пользовтелей, которых нет в списке активных, возможно это продление подписки или т.п.\n",
    "checks.query(' id not in @active_studs.id').shape[0]"
   ]
  },
  {
   "cell_type": "code",
   "execution_count": 30,
   "metadata": {},
   "outputs": [
    {
     "data": {
      "text/plain": [
       "B    6803\n",
       "A    1538\n",
       "Name: grp, dtype: int64"
      ]
     },
     "execution_count": 30,
     "metadata": {},
     "output_type": "execute_result"
    }
   ],
   "source": [
    "# распределение активных пользователей по группам\n",
    "groups_total.query(' id in @active_studs.id').grp.value_counts(normalize=False)"
   ]
  },
  {
   "cell_type": "code",
   "execution_count": 31,
   "metadata": {},
   "outputs": [
    {
     "data": {
      "text/plain": [
       "B    434\n",
       "A    107\n",
       "Name: grp, dtype: int64"
      ]
     },
     "execution_count": 31,
     "metadata": {},
     "output_type": "execute_result"
    }
   ],
   "source": [
    "# распределение оплативших пользователей по группам \n",
    "groups_total.query(' id in @checks.id').grp.value_counts(normalize=False)"
   ]
  },
  {
   "cell_type": "code",
   "execution_count": 32,
   "metadata": {},
   "outputs": [
    {
     "data": {
      "text/plain": [
       "B    120\n",
       "A     29\n",
       "Name: grp, dtype: int64"
      ]
     },
     "execution_count": 32,
     "metadata": {},
     "output_type": "execute_result"
    }
   ],
   "source": [
    "# распределение оплативших не активных пользователей по группам \n",
    "not_active_but_paid=checks.query(' id not in @active_studs.id')\n",
    "groups_total.query(' id in @not_active_but_paid.id').grp.value_counts(normalize=False)"
   ]
  },
  {
   "cell_type": "code",
   "execution_count": 33,
   "metadata": {},
   "outputs": [
    {
     "data": {
      "text/plain": [
       "149"
      ]
     },
     "execution_count": 33,
     "metadata": {},
     "output_type": "execute_result"
    }
   ],
   "source": [
    "not_active_but_paid.shape[0]\n"
   ]
  },
  {
   "cell_type": "code",
   "execution_count": 34,
   "metadata": {},
   "outputs": [
    {
     "data": {
      "text/plain": [
       "B    314\n",
       "A     78\n",
       "Name: grp, dtype: int64"
      ]
     },
     "execution_count": 34,
     "metadata": {},
     "output_type": "execute_result"
    }
   ],
   "source": [
    "# распределение активных и оплативших пользователей\n",
    "active_and_paid = groups_total.query('id in @active_studs.id & id in @checks.id')\n",
    "active_and_paid.grp.value_counts(normalize=False)"
   ]
  },
  {
   "cell_type": "code",
   "execution_count": 35,
   "metadata": {},
   "outputs": [
    {
     "data": {
      "text/plain": [
       "392"
      ]
     },
     "execution_count": 35,
     "metadata": {},
     "output_type": "execute_result"
    }
   ],
   "source": [
    "active_and_paid.grp.shape[0]"
   ]
  },
  {
   "cell_type": "code",
   "execution_count": 36,
   "metadata": {},
   "outputs": [
    {
     "data": {
      "text/plain": [
       "B    6489\n",
       "A    1460\n",
       "Name: grp, dtype: int64"
      ]
     },
     "execution_count": 36,
     "metadata": {},
     "output_type": "execute_result"
    }
   ],
   "source": [
    "# распределение активных и не оплативших пользователей\n",
    "active_and_not_paid = groups_total.query('id in @active_studs.id & id not in @checks.id')\n",
    "active_and_not_paid.grp.value_counts(normalize=False)"
   ]
  },
  {
   "cell_type": "markdown",
   "metadata": {},
   "source": [
    "**Финальное распределение пользовтаелей проанализированной информации**"
   ]
  },
  {
   "cell_type": "code",
   "execution_count": 37,
   "metadata": {},
   "outputs": [
    {
     "data": {
      "image/jpeg": "[encoded data removed]",
      "text/plain": [
       "<IPython.core.display.Image object>"
      ]
     },
     "execution_count": 37,
     "metadata": {
      "image/jpeg": {
       "height": 400,
       "width": 400
      }
     },
     "output_type": "execute_result"
    }
   ],
   "source": [
    "Image(filename = \"/mnt/HC_Volume_18315164/home-jupyter/jupyter-o-kivokurtsev/Final_project/1.jpg\", width=400, height=400)"
   ]
  },
  {
   "cell_type": "markdown",
   "metadata": {},
   "source": [
    "Т.к. в поставленной задаче ничего не говорится про пользователей, которые были не активны, но оплата от них прошла (это возможно автоматическое списание средст или ошибки в логах, возможно пользователи были активны) Скорее всего эти пользователи не видели новую механику оплаты услуг. Поэтому исключаем пользователей которые были не активны, но с оплатой - 149 users. Для дальнейшего анализа используем список активных пользователей с оплатой A= 78 B = 314 пользователей, в группе **В** значительно больше пользователей"
   ]
  },
  {
   "cell_type": "code",
   "execution_count": 38,
   "metadata": {},
   "outputs": [
    {
     "data": {
      "text/html": [
       "<div>\n",
       "<style scoped>\n",
       "    .dataframe tbody tr th:only-of-type {\n",
       "        vertical-align: middle;\n",
       "    }\n",
       "\n",
       "    .dataframe tbody tr th {\n",
       "        vertical-align: top;\n",
       "    }\n",
       "\n",
       "    .dataframe thead th {\n",
       "        text-align: right;\n",
       "    }\n",
       "</style>\n",
       "<table border=\"1\" class=\"dataframe\">\n",
       "  <thead>\n",
       "    <tr style=\"text-align: right;\">\n",
       "      <th></th>\n",
       "      <th>id</th>\n",
       "      <th>grp</th>\n",
       "      <th>rev</th>\n",
       "    </tr>\n",
       "  </thead>\n",
       "  <tbody>\n",
       "    <tr>\n",
       "      <th>0</th>\n",
       "      <td>581585</td>\n",
       "      <td>A</td>\n",
       "      <td>0.0</td>\n",
       "    </tr>\n",
       "    <tr>\n",
       "      <th>1</th>\n",
       "      <td>5723133</td>\n",
       "      <td>A</td>\n",
       "      <td>0.0</td>\n",
       "    </tr>\n",
       "    <tr>\n",
       "      <th>2</th>\n",
       "      <td>3276743</td>\n",
       "      <td>B</td>\n",
       "      <td>0.0</td>\n",
       "    </tr>\n",
       "    <tr>\n",
       "      <th>3</th>\n",
       "      <td>4238589</td>\n",
       "      <td>A</td>\n",
       "      <td>0.0</td>\n",
       "    </tr>\n",
       "    <tr>\n",
       "      <th>4</th>\n",
       "      <td>4475369</td>\n",
       "      <td>B</td>\n",
       "      <td>0.0</td>\n",
       "    </tr>\n",
       "  </tbody>\n",
       "</table>\n",
       "</div>"
      ],
      "text/plain": [
       "        id grp  rev\n",
       "0   581585   A  0.0\n",
       "1  5723133   A  0.0\n",
       "2  3276743   B  0.0\n",
       "3  4238589   A  0.0\n",
       "4  4475369   B  0.0"
      ]
     },
     "execution_count": 38,
     "metadata": {},
     "output_type": "execute_result"
    }
   ],
   "source": [
    "#Объединяем в 1 df нашу выборку активных пользователей с оплатой и далее объединяем с общим количество активных \n",
    "df_users = (groups_total\n",
    "            .merge(active_studs\n",
    "            .merge(checks, how='left',on='id'),how='right',on='id').fillna(0))\n",
    "\n",
    "\n",
    "df_users.head()"
   ]
  },
  {
   "cell_type": "code",
   "execution_count": 39,
   "metadata": {},
   "outputs": [],
   "source": [
    "#Переведем оплаты пользователей в 1 и 0 \n",
    "df_users['paid'] =df_users.rev.apply(lambda x: 0 if x==0 else 1)"
   ]
  },
  {
   "cell_type": "code",
   "execution_count": 40,
   "metadata": {},
   "outputs": [],
   "source": [
    "#Разобъем наш df на 5 групп:\n",
    "# 1 Группа А активные и оплатившие\n",
    "# 2 Группа В активные и оплатившие\n",
    "# 3 Группа А активные\n",
    "# 4 Группа В активные\n",
    "# 5 Активные и оплатившие"
   ]
  },
  {
   "cell_type": "code",
   "execution_count": 41,
   "metadata": {},
   "outputs": [],
   "source": [
    "a_paid = df_users.query('rev > 0 and grp == \"A\"')\n",
    "b_paid = df_users.query('rev > 0 and grp == \"B\"')\n",
    "a_act = df_users.query('grp == \"A\"')\n",
    "b_act = df_users.query('grp == \"B\"')\n",
    "act_and_paid = df_users.query('rev > 0')"
   ]
  },
  {
   "cell_type": "code",
   "execution_count": 42,
   "metadata": {},
   "outputs": [
    {
     "data": {
      "image/png": "[encoded data removed]",
      "text/plain": [
       "<Figure size 720x504 with 2 Axes>"
      ]
     },
     "metadata": {
      "needs_background": "light"
     },
     "output_type": "display_data"
    }
   ],
   "source": [
    "# Посмотрим на распределение наших выборок и описание основных статистик\n",
    "fig, axs = plt.subplots(1, 2, figsize=(10, 7))\n",
    "axs[0].set_title('a_act')\n",
    "axs[1].set_title('b_act')\n",
    "a = axs[0].hist(a_act['rev'], bins=70)\n",
    "b = axs[1].hist(b_act['rev'], bins=70)"
   ]
  },
  {
   "cell_type": "code",
   "execution_count": 43,
   "metadata": {},
   "outputs": [
    {
     "data": {
      "text/html": [
       "<div>\n",
       "<style scoped>\n",
       "    .dataframe tbody tr th:only-of-type {\n",
       "        vertical-align: middle;\n",
       "    }\n",
       "\n",
       "    .dataframe tbody tr th {\n",
       "        vertical-align: top;\n",
       "    }\n",
       "\n",
       "    .dataframe thead th {\n",
       "        text-align: right;\n",
       "    }\n",
       "</style>\n",
       "<table border=\"1\" class=\"dataframe\">\n",
       "  <thead>\n",
       "    <tr style=\"text-align: right;\">\n",
       "      <th></th>\n",
       "      <th>a_act</th>\n",
       "      <th>b_act</th>\n",
       "    </tr>\n",
       "  </thead>\n",
       "  <tbody>\n",
       "    <tr>\n",
       "      <th>count</th>\n",
       "      <td>1538.000000</td>\n",
       "      <td>6803.000000</td>\n",
       "    </tr>\n",
       "    <tr>\n",
       "      <th>mean</th>\n",
       "      <td>47.347204</td>\n",
       "      <td>58.058798</td>\n",
       "    </tr>\n",
       "    <tr>\n",
       "      <th>std</th>\n",
       "      <td>290.490632</td>\n",
       "      <td>313.770201</td>\n",
       "    </tr>\n",
       "    <tr>\n",
       "      <th>min</th>\n",
       "      <td>0.000000</td>\n",
       "      <td>0.000000</td>\n",
       "    </tr>\n",
       "    <tr>\n",
       "      <th>25%</th>\n",
       "      <td>0.000000</td>\n",
       "      <td>0.000000</td>\n",
       "    </tr>\n",
       "    <tr>\n",
       "      <th>50%</th>\n",
       "      <td>0.000000</td>\n",
       "      <td>0.000000</td>\n",
       "    </tr>\n",
       "    <tr>\n",
       "      <th>75%</th>\n",
       "      <td>0.000000</td>\n",
       "      <td>0.000000</td>\n",
       "    </tr>\n",
       "    <tr>\n",
       "      <th>max</th>\n",
       "      <td>3660.000000</td>\n",
       "      <td>4650.000000</td>\n",
       "    </tr>\n",
       "  </tbody>\n",
       "</table>\n",
       "</div>"
      ],
      "text/plain": [
       "             a_act        b_act\n",
       "count  1538.000000  6803.000000\n",
       "mean     47.347204    58.058798\n",
       "std     290.490632   313.770201\n",
       "min       0.000000     0.000000\n",
       "25%       0.000000     0.000000\n",
       "50%       0.000000     0.000000\n",
       "75%       0.000000     0.000000\n",
       "max    3660.000000  4650.000000"
      ]
     },
     "execution_count": 43,
     "metadata": {},
     "output_type": "execute_result"
    }
   ],
   "source": [
    "a_act_desc = a_act.drop(columns=['grp','id','paid']).describe().rename(columns={'rev':'a_act'})\n",
    "b_act_desc = b_act.drop(columns=['grp','id','paid']).describe().rename(columns={'rev':'b_act'})\n",
    "pd.concat([a_act_desc, b_act_desc], axis=1)"
   ]
  },
  {
   "cell_type": "code",
   "execution_count": 44,
   "metadata": {},
   "outputs": [
    {
     "data": {
      "image/png": "[encoded data removed]",
      "text/plain": [
       "<Figure size 720x504 with 2 Axes>"
      ]
     },
     "metadata": {
      "needs_background": "light"
     },
     "output_type": "display_data"
    }
   ],
   "source": [
    "fig, axs = plt.subplots(1, 2, figsize=(10, 7))\n",
    "axs[0].set_title('a_paid')\n",
    "axs[1].set_title('b_paid')\n",
    "c = axs[0].hist(a_paid['rev'], bins=70)\n",
    "d = axs[1].hist(b_paid['rev'], bins=70)"
   ]
  },
  {
   "cell_type": "code",
   "execution_count": 45,
   "metadata": {},
   "outputs": [
    {
     "data": {
      "text/html": [
       "<div>\n",
       "<style scoped>\n",
       "    .dataframe tbody tr th:only-of-type {\n",
       "        vertical-align: middle;\n",
       "    }\n",
       "\n",
       "    .dataframe tbody tr th {\n",
       "        vertical-align: top;\n",
       "    }\n",
       "\n",
       "    .dataframe thead th {\n",
       "        text-align: right;\n",
       "    }\n",
       "</style>\n",
       "<table border=\"1\" class=\"dataframe\">\n",
       "  <thead>\n",
       "    <tr style=\"text-align: right;\">\n",
       "      <th></th>\n",
       "      <th>a_paid</th>\n",
       "      <th>b_paid</th>\n",
       "    </tr>\n",
       "  </thead>\n",
       "  <tbody>\n",
       "    <tr>\n",
       "      <th>count</th>\n",
       "      <td>78.000000</td>\n",
       "      <td>314.000000</td>\n",
       "    </tr>\n",
       "    <tr>\n",
       "      <th>mean</th>\n",
       "      <td>933.589744</td>\n",
       "      <td>1257.878992</td>\n",
       "    </tr>\n",
       "    <tr>\n",
       "      <th>std</th>\n",
       "      <td>919.932711</td>\n",
       "      <td>790.864254</td>\n",
       "    </tr>\n",
       "    <tr>\n",
       "      <th>min</th>\n",
       "      <td>199.000000</td>\n",
       "      <td>199.000000</td>\n",
       "    </tr>\n",
       "    <tr>\n",
       "      <th>25%</th>\n",
       "      <td>290.000000</td>\n",
       "      <td>511.750000</td>\n",
       "    </tr>\n",
       "    <tr>\n",
       "      <th>50%</th>\n",
       "      <td>585.000000</td>\n",
       "      <td>1140.000000</td>\n",
       "    </tr>\n",
       "    <tr>\n",
       "      <th>75%</th>\n",
       "      <td>1114.750000</td>\n",
       "      <td>1900.000000</td>\n",
       "    </tr>\n",
       "    <tr>\n",
       "      <th>max</th>\n",
       "      <td>3660.000000</td>\n",
       "      <td>4650.000000</td>\n",
       "    </tr>\n",
       "  </tbody>\n",
       "</table>\n",
       "</div>"
      ],
      "text/plain": [
       "            a_paid       b_paid\n",
       "count    78.000000   314.000000\n",
       "mean    933.589744  1257.878992\n",
       "std     919.932711   790.864254\n",
       "min     199.000000   199.000000\n",
       "25%     290.000000   511.750000\n",
       "50%     585.000000  1140.000000\n",
       "75%    1114.750000  1900.000000\n",
       "max    3660.000000  4650.000000"
      ]
     },
     "execution_count": 45,
     "metadata": {},
     "output_type": "execute_result"
    }
   ],
   "source": [
    "a_paid_desc = a_paid.drop(columns=['grp','id','paid']).describe().rename(columns={'rev':'a_paid'})\n",
    "b_paid_desc = b_paid.drop(columns=['grp','id','paid']).describe().rename(columns={'rev':'b_paid'})\n",
    "pd.concat([a_paid_desc, b_paid_desc], axis=1)"
   ]
  },
  {
   "cell_type": "code",
   "execution_count": 46,
   "metadata": {},
   "outputs": [
    {
     "data": {
      "text/plain": [
       "<matplotlib.axes._subplots.AxesSubplot at 0x7fa0c0d9ea58>"
      ]
     },
     "execution_count": 46,
     "metadata": {},
     "output_type": "execute_result"
    },
    {
     "data": {
      "image/png": "[encoded data removed]",
      "text/plain": [
       "<Figure size 432x288 with 1 Axes>"
      ]
     },
     "metadata": {
      "needs_background": "light"
     },
     "output_type": "display_data"
    }
   ],
   "source": [
    "# построим боксплотов активные и оплатившие\n",
    "sns.boxplot(data=act_and_paid, y='rev', x='grp')"
   ]
  },
  {
   "cell_type": "markdown",
   "metadata": {},
   "source": [
    "## На какие метрики Вы смотрите в ходе анализа и почему?\n",
    "\n",
    "* **Конверсия (conversion rate, CR)** — отношение числа пользователей, которые выполнили какое-либо целевое действие к общему числу пользователей. - Показывает насколько пользователи хотят или им удобно совершать покупки у нас в продукте\n",
    "Показатели доходов:\n",
    "* **ARPPU (Average revenue per paying user)** - основная доходная метрики продукта.\n",
    "* **ARPU (Average revenue per user)** - основная доходная метрики продукта."
   ]
  },
  {
   "cell_type": "markdown",
   "metadata": {},
   "source": [
    "## CR"
   ]
  },
  {
   "cell_type": "code",
   "execution_count": 47,
   "metadata": {},
   "outputs": [
    {
     "data": {
      "text/plain": [
       "-0.005"
      ]
     },
     "execution_count": 47,
     "metadata": {},
     "output_type": "execute_result"
    }
   ],
   "source": [
    "CR_a = round(a_paid.id.count() / a_act.id.count(),3)\n",
    "CR_b = round(b_paid.id.count() / b_act.id.count(),3)\n",
    "CR_diff = round(CR_b - CR_a,3)\n",
    "CR_diff"
   ]
  },
  {
   "cell_type": "code",
   "execution_count": 48,
   "metadata": {},
   "outputs": [
    {
     "data": {
      "text/plain": [
       "'-9.80%'"
      ]
     },
     "execution_count": 48,
     "metadata": {},
     "output_type": "execute_result"
    }
   ],
   "source": [
    "CR_a_vs_b = round((CR_b / CR_a)-1,3)\n",
    "'{:.2%}'.format(CR_a_vs_b)"
   ]
  },
  {
   "cell_type": "markdown",
   "metadata": {},
   "source": [
    "## ARPPU"
   ]
  },
  {
   "cell_type": "code",
   "execution_count": 49,
   "metadata": {},
   "outputs": [
    {
     "data": {
      "text/plain": [
       "324.289"
      ]
     },
     "execution_count": 49,
     "metadata": {},
     "output_type": "execute_result"
    }
   ],
   "source": [
    "ARPPU_a = round(a_paid.rev.mean(),3)\n",
    "ARPPU_b = round(b_paid.rev.mean(),3)\n",
    "ARPPU_diff = round(ARPPU_b-ARPPU_a,3)\n",
    "ARPPU_diff"
   ]
  },
  {
   "cell_type": "code",
   "execution_count": 50,
   "metadata": {},
   "outputs": [
    {
     "data": {
      "text/plain": [
       "'34.70%'"
      ]
     },
     "execution_count": 50,
     "metadata": {},
     "output_type": "execute_result"
    }
   ],
   "source": [
    "ARPPU_a_vs_b = round((ARPPU_b/ARPPU_a)-1,3)\n",
    "'{:.2%}'.format(ARPPU_a_vs_b)"
   ]
  },
  {
   "cell_type": "markdown",
   "metadata": {},
   "source": [
    "## ARPU"
   ]
  },
  {
   "cell_type": "code",
   "execution_count": 51,
   "metadata": {},
   "outputs": [
    {
     "data": {
      "text/plain": [
       "10.712"
      ]
     },
     "execution_count": 51,
     "metadata": {},
     "output_type": "execute_result"
    }
   ],
   "source": [
    "ARPU_a = round(a_paid.rev.sum() / a_act.id.count(),3)\n",
    "ARPU_b = round(b_paid.rev.sum() / b_act.id.count(),3)\n",
    "ARPU_diff = round(ARPU_b-ARPU_a,3)\n",
    "ARPU_diff"
   ]
  },
  {
   "cell_type": "code",
   "execution_count": 52,
   "metadata": {},
   "outputs": [
    {
     "data": {
      "text/plain": [
       "'22.60%'"
      ]
     },
     "execution_count": 52,
     "metadata": {},
     "output_type": "execute_result"
    }
   ],
   "source": [
    "ARPU_a_vs_b = round((ARPU_b/ARPU_a)-1,3)\n",
    "'{:.2%}'.format(ARPU_a_vs_b)"
   ]
  },
  {
   "cell_type": "markdown",
   "metadata": {},
   "source": [
    "Предлагаем Вам ответить на следующие вопросы:\n",
    "\n",
    "* Имеются ли различия в показателях и с чем они могут быть связаны? **Да, имеются**\n",
    "* CR снизился ~10% \n",
    "* ARPPU - прирост ~35%\n",
    "* ARPU - прирост ~23%"
   ]
  },
  {
   "cell_type": "markdown",
   "metadata": {},
   "source": [
    "**Следовательно можно сделать вывод что конверсия снижается за счет снижения кол-ва мелких покупок, т.к. ARPPU и ARPU значительно выросли и увеличили средний чек**"
   ]
  },
  {
   "cell_type": "markdown",
   "metadata": {},
   "source": [
    "**Являются ли эти различия статистически значимыми?**\n",
    "Из описания оснонвных статистик видно большое кол-во выбросов в выбрках, а также размеры выборок очень сильно различаются\n",
    "\n",
    "Что мы можем сделать дальше с этим? Что будет лучше отражать центральную тенденцию? В данном случае наверное медиана поможет убрать выбросы, но можем ли мы использовать ЦПТ, чтобы построить доверительный интервал для медианы? На данный момент не можем, поэтому используем **бутстрап**"
   ]
  },
  {
   "cell_type": "code",
   "execution_count": 53,
   "metadata": {},
   "outputs": [],
   "source": [
    "# Объявим функцию, которая позволит проверять гипотезы с помощью бутстрапа\n",
    "def get_bootstrap(\n",
    "    data_column_1,                       # числовые значения первой (контрольной) выборки\n",
    "    data_column_2,                       # числовые значения второй (тестовой) выборки\n",
    "    boot_it = 1000,                      # количество бутстрэп-подвыборок\n",
    "    statistic = np.mean,                 # интересующая нас статистика\n",
    "    bootstrap_conf_level = 0.95,         # уровень значимости\n",
    "    graph = True,                        # отрисовывать ли график\n",
    "    show_progress = True                 # показывать ли индикатор програсса\n",
    "    ):\n",
    "    boot_len = max([len(data_column_1), len(data_column_2)])\n",
    "    boot_data = []\n",
    "    for i in tqdm(range(boot_it)):       # извлекаем подвыборки\n",
    "        samples_1 = data_column_1.sample(\n",
    "            boot_len, \n",
    "            replace = True               # параметр возвращения\n",
    "        ).values\n",
    "        \n",
    "        samples_2 = data_column_2.sample(\n",
    "            boot_len, \n",
    "            replace = True\n",
    "        ).values\n",
    "        \n",
    "        boot_data.append(statistic(samples_2-samples_1)) # mean() - применяем статистику\n",
    "        \n",
    "    pd_boot_data = pd.DataFrame(boot_data)\n",
    "    \n",
    "    # доверительный интервал \n",
    "    left_quant = (1 - bootstrap_conf_level)/2\n",
    "    right_quant = 1 - (1 - bootstrap_conf_level) / 2\n",
    "    ci = pd_boot_data.quantile([left_quant, right_quant])\n",
    "        \n",
    "    p_1 = norm.cdf(\n",
    "        x = 0, \n",
    "        loc = np.mean(boot_data), \n",
    "        scale = np.std(boot_data)\n",
    "    )\n",
    "    p_2 = norm.cdf(\n",
    "        x = 0, \n",
    "        loc = -np.mean(boot_data), \n",
    "        scale = np.std(boot_data)\n",
    "    )\n",
    "    p_value = min(p_1, p_2) * 2\n",
    "        \n",
    "    # Визуализация\n",
    "    if graph == True:\n",
    "        plt.hist(pd_boot_data[0], bins = 50)\n",
    "        plt.style.use('ggplot')\n",
    "        plt.vlines(ci,ymin=0,ymax=50,linestyle='--')\n",
    "        plt.xlabel('boot_data')\n",
    "        plt.ylabel('frequency')\n",
    "        plt.title(\"Histogram of boot_data\")\n",
    "        plt.show()\n",
    "       \n",
    "    return {\"ci\": ci, \n",
    "            \"p_value\": p_value}"
   ]
  },
  {
   "cell_type": "code",
   "execution_count": 54,
   "metadata": {},
   "outputs": [],
   "source": [
    "#задаем через функцию интересующий нас параметр для CR\n",
    "def func(x):\n",
    "    return sum(x) / len(x)"
   ]
  },
  {
   "cell_type": "markdown",
   "metadata": {},
   "source": [
    "Сформулируем наши гипотезы\n",
    "\n",
    "**CR**\n",
    "\n",
    "H0: CR в двух группах одинаковые.\n",
    "H1: CR в двух группах различаются.\n",
    "\n",
    "**ARPU**\n",
    "\n",
    "H0: ARPU в двух группах одинаковые.\n",
    "H1: ARPU в двух группах различаются.\n",
    "\n",
    "**ARPPU**\n",
    "\n",
    "H0: ARPPU в двух группах одинаковые.\n",
    "H1: ARPPU в двух группах различаются."
   ]
  },
  {
   "cell_type": "code",
   "execution_count": 55,
   "metadata": {},
   "outputs": [
    {
     "data": {
      "application/vnd.jupyter.widget-view+json": {
       "model_id": "ded01a12f9774528b1503a7e8c150125",
       "version_major": 2,
       "version_minor": 0
      },
      "text/plain": [
       "HBox(children=(FloatProgress(value=0.0, max=1000.0), HTML(value='')))"
      ]
     },
     "metadata": {},
     "output_type": "display_data"
    },
    {
     "name": "stdout",
     "output_type": "stream",
     "text": [
      "\n"
     ]
    },
    {
     "data": {
      "image/png": "[encoded data removed]",
      "text/plain": [
       "<Figure size 432x288 with 1 Axes>"
      ]
     },
     "metadata": {
      "needs_background": "light"
     },
     "output_type": "display_data"
    },
    {
     "data": {
      "text/plain": [
       "{'ci':               0\n",
       " 0.025 -0.011613\n",
       " 0.975  0.002352,\n",
       " 'p_value': 0.2041731175254098}"
      ]
     },
     "execution_count": 55,
     "metadata": {},
     "output_type": "execute_result"
    }
   ],
   "source": [
    "get_bootstrap(a_act.paid, b_act.paid, statistic = func)"
   ]
  },
  {
   "cell_type": "markdown",
   "metadata": {},
   "source": [
    "**0 попадает в доверительный интервал, нулевая гипотеза на заданном уровне значимости принимается**\n",
    "\n",
    "**Значимых различий в CR в двух группах нет**"
   ]
  },
  {
   "cell_type": "code",
   "execution_count": 59,
   "metadata": {},
   "outputs": [
    {
     "data": {
      "application/vnd.jupyter.widget-view+json": {
       "model_id": "0d91fad3915542289288ac4c69b76a01",
       "version_major": 2,
       "version_minor": 0
      },
      "text/plain": [
       "HBox(children=(FloatProgress(value=0.0, max=1000.0), HTML(value='')))"
      ]
     },
     "metadata": {},
     "output_type": "display_data"
    },
    {
     "name": "stdout",
     "output_type": "stream",
     "text": [
      "\n"
     ]
    },
    {
     "data": {
      "image/png": "[encoded data removed]",
      "text/plain": [
       "<Figure size 432x288 with 1 Axes>"
      ]
     },
     "metadata": {},
     "output_type": "display_data"
    },
    {
     "data": {
      "text/plain": [
       "{'ci':                0\n",
       " 0.025   0.718294\n",
       " 0.975  20.301901,\n",
       " 'p_value': 0.03972099890881768}"
      ]
     },
     "execution_count": 59,
     "metadata": {},
     "output_type": "execute_result"
    }
   ],
   "source": [
    "get_bootstrap(a_act.rev, b_act.rev)"
   ]
  },
  {
   "cell_type": "markdown",
   "metadata": {},
   "source": [
    "**0 не попадает в доверительный интервал, нулевая гипотеза на заданном уровне значимости не принимается**\n",
    "\n",
    "**Значимых различий в ARPU в двух группах есть**"
   ]
  },
  {
   "cell_type": "code",
   "execution_count": 57,
   "metadata": {},
   "outputs": [
    {
     "data": {
      "application/vnd.jupyter.widget-view+json": {
       "model_id": "bf9768cf433c4ca7942de0bb7fab30a2",
       "version_major": 2,
       "version_minor": 0
      },
      "text/plain": [
       "HBox(children=(FloatProgress(value=0.0, max=1000.0), HTML(value='')))"
      ]
     },
     "metadata": {},
     "output_type": "display_data"
    },
    {
     "name": "stdout",
     "output_type": "stream",
     "text": [
      "\n"
     ]
    },
    {
     "data": {
      "image/png": "[encoded data removed]",
      "text/plain": [
       "<Figure size 432x288 with 1 Axes>"
      ]
     },
     "metadata": {},
     "output_type": "display_data"
    },
    {
     "data": {
      "text/plain": [
       "{'ci':                 0\n",
       " 0.025  193.953275\n",
       " 0.975  455.117767,\n",
       " 'p_value': 1.6086402618934834e-06}"
      ]
     },
     "execution_count": 57,
     "metadata": {},
     "output_type": "execute_result"
    }
   ],
   "source": [
    "get_bootstrap(a_paid.rev, b_paid.rev)"
   ]
  },
  {
   "cell_type": "markdown",
   "metadata": {},
   "source": [
    "**0 не попадает в доверительный интервал, нулевая гипотеза на заданном уровне значимости не принимается**\n",
    "\n",
    "**Значимых различий в ARPPU в двух группах есть**"
   ]
  },
  {
   "cell_type": "markdown",
   "metadata": {},
   "source": [
    "**Стоит ли запускать новую механику на всех пользователей?**\n",
    "\n",
    "Да,новая механика оплаты услуг на сайте увеличивает ARPU и ARPPU статистически значимо, различие в конверсии (CR) статистически не потвердились"
   ]
  },
  {
   "cell_type": "markdown",
   "metadata": {},
   "source": [
    "## Задание 2. SQL\n",
    "\n",
    "**2.1.1 Условие**\n",
    "\n",
    "Образовательные курсы состоят из различных уроков, каждый из которых состоит из нескольких маленьких заданий. Каждое такое маленькое задание называется \"горошиной\".\n",
    "\n",
    "Назовём очень усердным учеником того пользователя, который хотя бы раз за текущий месяц правильно решил 20 горошин.\n",
    "\n",
    "\n",
    "\n"
   ]
  },
  {
   "cell_type": "markdown",
   "metadata": {},
   "source": [
    "**2.1.2 Задача** \n",
    "\n",
    "Необходимо написать оптимальный запрос, который даст информацию о количестве очень усердных студентов.\n",
    "\n",
    "NB! Под усердным студентом мы понимаем студента, который правильно решил 20 задач за текущий месяц.\n",
    "\n",
    "**В задании говориться про текущий месяц, но в таблице данные только за октябрь 2021 года, скорее всего наш коллега очень спешил и допустил ошибку в выгрузке данных**\n",
    "\n",
    "**Поэтому составим 2 запроса 1) Запрос для текущего месяца 2)Запрос для дат, которые есть в табличке**"
   ]
  },
  {
   "cell_type": "code",
   "execution_count": 60,
   "metadata": {},
   "outputs": [],
   "source": [
    "connection_default = {'host': 'http://clickhouse.beslan.pro:8080',\n",
    "                      'database':'default',\n",
    "                      'user':'student', \n",
    "                      'password':'dpo_python_2020'\n",
    "                     }"
   ]
  },
  {
   "cell_type": "code",
   "execution_count": 61,
   "metadata": {},
   "outputs": [
    {
     "data": {
      "text/html": [
       "<div>\n",
       "<style scoped>\n",
       "    .dataframe tbody tr th:only-of-type {\n",
       "        vertical-align: middle;\n",
       "    }\n",
       "\n",
       "    .dataframe tbody tr th {\n",
       "        vertical-align: top;\n",
       "    }\n",
       "\n",
       "    .dataframe thead th {\n",
       "        text-align: right;\n",
       "    }\n",
       "</style>\n",
       "<table border=\"1\" class=\"dataframe\">\n",
       "  <thead>\n",
       "    <tr style=\"text-align: right;\">\n",
       "      <th></th>\n",
       "      <th>stodents_more_20_peas</th>\n",
       "    </tr>\n",
       "  </thead>\n",
       "  <tbody>\n",
       "    <tr>\n",
       "      <th>0</th>\n",
       "      <td>0</td>\n",
       "    </tr>\n",
       "  </tbody>\n",
       "</table>\n",
       "</div>"
      ],
      "text/plain": [
       "   stodents_more_20_peas\n",
       "0                      0"
      ]
     },
     "execution_count": 61,
     "metadata": {},
     "output_type": "execute_result"
    }
   ],
   "source": [
    "\n",
    "q = '''\n",
    "SELECT COUNT(DISTINCT st_id) as stodents_more_20_peas -- считаем кол-во студентов сделавших более 20 заданий\n",
    "\n",
    "FROM \n",
    "\n",
    "(SELECT st_id,\ttimest,\n",
    "\n",
    "SUM(correct) as sum_peas \t\t\t\t\t\t\t-- считаем кол-во заданий\n",
    "\n",
    "FROM default.peas\n",
    "\n",
    "WHERE extract(Month from timest) = 9 AND extract(Year from timest) = 2022 -- выбираем текущий месяц\n",
    "\n",
    "GROUP BY timest,st_id\t\t\t\t\t\t\t\t-- группируем по месяцу и id студента\n",
    "\n",
    "HAVING sum_peas >=20)\n",
    "    '''\n",
    "q_test = ph.read_clickhouse(query=q, connection=connection_default)\n",
    "q_test"
   ]
  },
  {
   "cell_type": "code",
   "execution_count": 62,
   "metadata": {},
   "outputs": [
    {
     "data": {
      "text/html": [
       "<div>\n",
       "<style scoped>\n",
       "    .dataframe tbody tr th:only-of-type {\n",
       "        vertical-align: middle;\n",
       "    }\n",
       "\n",
       "    .dataframe tbody tr th {\n",
       "        vertical-align: top;\n",
       "    }\n",
       "\n",
       "    .dataframe thead th {\n",
       "        text-align: right;\n",
       "    }\n",
       "</style>\n",
       "<table border=\"1\" class=\"dataframe\">\n",
       "  <thead>\n",
       "    <tr style=\"text-align: right;\">\n",
       "      <th></th>\n",
       "      <th>stodents_more_20_peas</th>\n",
       "    </tr>\n",
       "  </thead>\n",
       "  <tbody>\n",
       "    <tr>\n",
       "      <th>0</th>\n",
       "      <td>136</td>\n",
       "    </tr>\n",
       "  </tbody>\n",
       "</table>\n",
       "</div>"
      ],
      "text/plain": [
       "   stodents_more_20_peas\n",
       "0                    136"
      ]
     },
     "execution_count": 62,
     "metadata": {},
     "output_type": "execute_result"
    }
   ],
   "source": [
    "e = '''\n",
    "SELECT COUNT(DISTINCT st_id) as stodents_more_20_peas -- считаем кол-во студентов сделавших более 20 заданий\n",
    "\n",
    "FROM \n",
    "\n",
    "(SELECT st_id,\ttoMonth(toStartOfMonth(timest)) as MONTH,\n",
    "\n",
    "SUM(correct) as sum_peas \t\t\t\t\t\t\t-- считаем кол-во заданий\n",
    "\n",
    "FROM default.peas\n",
    "\n",
    "GROUP BY MONTH,st_id\t\t\t\t\t\t\t\t-- группируем по месяцу и id студента\n",
    "\n",
    "HAVING sum_peas >=20)\n",
    "    '''\n",
    "e_test = ph.read_clickhouse(query=e, connection=connection_default)\n",
    "e_test"
   ]
  },
  {
   "cell_type": "markdown",
   "metadata": {},
   "source": [
    "**2.2 Оптимизация воронки**\n",
    "\n",
    "**2.2.1 Условие**\n",
    "\n",
    "Образовательная платформа предлагает пройти студентам курсы по модели trial: студент может решить бесплатно лишь 30 горошин в день. Для неограниченного количества заданий в определенной дисциплине студенту необходимо приобрести полный доступ. Команда провела эксперимент, где был протестирован новый экран оплаты.\n",
    "\n",
    "Необходимо в одном запросе выгрузить следующую информацию о группах пользователей:\n",
    "\n",
    "* ARPU \n",
    "* ARPAU \n",
    "* CR в покупку \n",
    "* СR активного пользователя в покупку \n",
    "* CR пользователя из активности по математике (subject = ’math’) в покупку курса по математике\n",
    "* ARPU считается относительно всех пользователей, попавших в группы.\n",
    "\n",
    "Активным считается пользователь, за все время решивший больше 10 задач правильно в любых дисциплинах.\n",
    "\n",
    "Активным по математике считается пользователь, за все время решивший 2 или больше задач правильно по математике.\n",
    "\n",
    "1)-- Отбираем активных студентов из таблицы peas,те кто выполнил более 10 горошин - 1, менее 0\n",
    "\n",
    "2)-- Отбираем активных студентов по математике из таблицы peas, те кто выполнил более 2 горошин - 1, менее 0\n",
    "\n",
    "3)-- Отбираем из таблицы default.final_project_check данные, получаем список оплативших курс и список оплативших курс по математике\n",
    "\n",
    "4)--Объединяем активных студентов с активными студентами по математике 1 и 2 запрос\n",
    "\n",
    "5)-- Объединяем шаг 4 с таблицей default.studs и добавляем Метку ученика в данном эксперименте, а также добавляем списки оплативших\n",
    "6)-- Считаем метрики, финальный объединенный запрос, группировка по групам"
   ]
  },
  {
   "cell_type": "markdown",
   "metadata": {},
   "source": [
    "**-- Отбираем активных студентов из таблицы peas,те кто выполнил более 10 горошин - 1, менее 0**\n",
    "\n",
    "SELECT ACT_MORE_10.st_id,\n",
    "MAX(CASE WHEN ACT_MORE_10.active_stud >= 10 THEN 1 ELSE 0 END) AS active_total\n",
    "FROM\n",
    "(SELECT st_id,subject,\t\t\t\t\t\t\t\t\t\t\n",
    "toMonth(toStartOfMonth(timest)) as MONTH,\t\t\t\n",
    "SUM(correct) as active_stud\t\t\t\t\t\t\t\n",
    "FROM default.peas\n",
    "GROUP BY MONTH,st_id,subject) AS ACT_MORE_10\n",
    "GROUP BY st_id\n",
    "\n",
    "**-- Отбираем активных студентов по математике из таблицы peas, те кто выполнил более 2 горошин - 1, менее 0**\n",
    "\n",
    "SELECT ACT_MORE_2.st_id,\n",
    "MAX(CASE WHEN ACT_MORE_2.active_stud >= 2 THEN 1 ELSE 0 END) AS active_M\n",
    "FROM\n",
    "(SELECT st_id,subject,\t\t\t\t\t\t\t\t\t\t\n",
    "toMonth(toStartOfMonth(timest)) as MONTH,\t\t\t\n",
    "SUM(correct) as active_stud\t\t\t\t\t\t\t\n",
    "FROM default.peas\n",
    "WHERE subject = 'Math'\n",
    "GROUP BY MONTH,st_id,subject) AS ACT_MORE_2\n",
    "GROUP BY st_id\n",
    "\n",
    "**-- Отбираем из таблицы default.final_project_check получаем список оплативших курс и список оплативших курс по математике**\n",
    "\n",
    "SELECT st_id, SUM(money) AS money,\n",
    "    1 AS any_subject,\n",
    "    MAX(CASE WHEN subject = 'Math' THEN 1 ELSE 0 END) AS math_subject\n",
    "FROM default.final_project_check fpc\n",
    "GROUP BY st_id\n",
    "\n",
    "**--Объединяем активных студентов с активными студентами по математике**\n",
    "\n",
    "SELECT A.st_id, A.active_total,A_m.active_M\n",
    "FROM (SELECT ACT_MORE_10.st_id,\n",
    "MAX(CASE WHEN ACT_MORE_10.active_stud >= 10 THEN 1 ELSE 0 END) AS active_total\n",
    "FROM\n",
    "(SELECT st_id,subject,\t\t\t\t\t\t\t\t\t\t\n",
    "toMonth(toStartOfMonth(timest)) as MONTH,\t\t\t\n",
    "SUM(correct) as active_stud\t\t\t\t\t\t\t\n",
    "FROM default.peas\n",
    "GROUP BY MONTH,st_id,subject) AS ACT_MORE_10\n",
    "GROUP BY st_id) as A\n",
    "INNER JOIN (SELECT ACT_MORE_2.st_id,\n",
    "MAX(CASE WHEN ACT_MORE_2.active_stud >= 2 THEN 1 ELSE 0 END) AS active_M\n",
    "FROM\n",
    "(SELECT st_id,subject,\t\t\t\t\t\t\t\t\t\t\n",
    "toMonth(toStartOfMonth(timest)) as MONTH,\t\t\t\n",
    "SUM(correct) as active_stud\t\t\t\t\t\t\t\n",
    "FROM default.peas\n",
    "WHERE subject = 'Math'\n",
    "GROUP BY MONTH,st_id,subject) AS ACT_MORE_2\n",
    "GROUP BY st_id) as A_m\n",
    "ON A.st_id=A_m.st_id\n",
    "\n",
    "**-- Объединяем с таблицей default.studs и добавляем Метку ученика в данном эксперименте, а также добавляем списки оплативших**\n",
    "\n",
    "SELECT A.st_id, A.active_total,A_m.active_M, studs.test_grp,C.money,C.any_subject,C.math_subject\n",
    "FROM (SELECT ACT_MORE_10.st_id,\n",
    "MAX(CASE WHEN ACT_MORE_10.active_stud >= 10 THEN 1 ELSE 0 END) AS active_total\n",
    "FROM\n",
    "(SELECT st_id,subject,\t\t\t\t\t\t\t\t\t\t\n",
    "toMonth(toStartOfMonth(timest)) as MONTH,\t\t\t\n",
    "SUM(correct) as active_stud\t\t\t\t\t\t\t\n",
    "FROM default.peas\n",
    "GROUP BY MONTH,st_id,subject) AS ACT_MORE_10\n",
    "GROUP BY st_id) as A\n",
    "INNER JOIN (SELECT ACT_MORE_2.st_id,\n",
    "MAX(CASE WHEN ACT_MORE_2.active_stud >= 2 THEN 1 ELSE 0 END) AS active_M\n",
    "FROM\n",
    "(SELECT st_id,subject,\t\t\t\t\t\t\t\t\t\t\n",
    "toMonth(toStartOfMonth(timest)) as MONTH,\t\t\t\n",
    "SUM(correct) as active_stud\t\t\t\t\t\t\t\n",
    "FROM default.peas\n",
    "WHERE subject = 'Math'\n",
    "GROUP BY MONTH,st_id,subject) AS ACT_MORE_2\n",
    "GROUP BY st_id) as A_m\n",
    "ON A.st_id=A_m.st_id\n",
    "INNER JOIN -- добавляем test / control \n",
    "default.studs     \n",
    "ON A.st_id = studs.st_id\n",
    "LEFT JOIN -- добавляем оплативших\n",
    "(SELECT st_id, SUM(money) AS money,\n",
    "    1 AS any_subject,\n",
    "    MAX(CASE WHEN subject = 'Math' THEN 1 ELSE 0 END) AS math_subject\n",
    "FROM default.final_project_check fpc\n",
    "GROUP BY st_id) as C\n",
    "ON A.st_id=C.st_id\n",
    "\n",
    "\n",
    "**-- Считаем метрики, финальный объединенный запрос, группировка по групам**\n",
    "\n",
    "**Финальный запрос выполняем через pandahouse**\n"
   ]
  },
  {
   "cell_type": "code",
   "execution_count": 63,
   "metadata": {},
   "outputs": [
    {
     "data": {
      "text/html": [
       "<div>\n",
       "<style scoped>\n",
       "    .dataframe tbody tr th:only-of-type {\n",
       "        vertical-align: middle;\n",
       "    }\n",
       "\n",
       "    .dataframe tbody tr th {\n",
       "        vertical-align: top;\n",
       "    }\n",
       "\n",
       "    .dataframe thead th {\n",
       "        text-align: right;\n",
       "    }\n",
       "</style>\n",
       "<table border=\"1\" class=\"dataframe\">\n",
       "  <thead>\n",
       "    <tr style=\"text-align: right;\">\n",
       "      <th></th>\n",
       "      <th>studs.test_grp</th>\n",
       "      <th>ARPU</th>\n",
       "      <th>ARPAU</th>\n",
       "      <th>CR</th>\n",
       "      <th>CR_act</th>\n",
       "      <th>CR_math</th>\n",
       "    </tr>\n",
       "  </thead>\n",
       "  <tbody>\n",
       "    <tr>\n",
       "      <th>0</th>\n",
       "      <td>control</td>\n",
       "      <td>10094.34</td>\n",
       "      <td>13048.78</td>\n",
       "      <td>0.113</td>\n",
       "      <td>0.0976</td>\n",
       "      <td>0.0612</td>\n",
       "    </tr>\n",
       "    <tr>\n",
       "      <th>1</th>\n",
       "      <td>pilot</td>\n",
       "      <td>18000.00</td>\n",
       "      <td>27931.03</td>\n",
       "      <td>0.133</td>\n",
       "      <td>0.1724</td>\n",
       "      <td>0.0952</td>\n",
       "    </tr>\n",
       "  </tbody>\n",
       "</table>\n",
       "</div>"
      ],
      "text/plain": [
       "  studs.test_grp      ARPU     ARPAU     CR  CR_act  CR_math\n",
       "0        control  10094.34  13048.78  0.113  0.0976   0.0612\n",
       "1          pilot  18000.00  27931.03  0.133  0.1724   0.0952"
      ]
     },
     "execution_count": 63,
     "metadata": {},
     "output_type": "execute_result"
    }
   ],
   "source": [
    "w = '''\n",
    "SELECT \n",
    "studs.test_grp,\n",
    "ROUND(COALESCE(SUM(C.money), 0) / COUNT(A.st_id),2) AS ARPU,\n",
    "ROUND(COALESCE(SUM(C.money), 0) / SUM(A.active_total),2) AS ARPAU,\n",
    "ROUND(COALESCE(SUM(C.any_subject), 0) / COUNT(A.st_id),3) AS CR,\n",
    "ROUND(SUM(CASE WHEN A.active_total = 1 AND C.any_subject = 1 THEN 1 ELSE 0 END) / SUM(A.active_total),4) AS CR_act,\n",
    "ROUND(SUM(CASE WHEN A_m.active_M = 1 AND C.math_subject = 1 THEN 1 ELSE 0 END) / SUM(A_m.active_M),4) AS CR_math\n",
    "FROM (SELECT ACT_MORE_10.st_id,\n",
    "MAX(CASE WHEN ACT_MORE_10.active_stud >= 10 THEN 1 ELSE 0 END) AS active_total\n",
    "FROM\n",
    "(SELECT st_id,subject,\t\t\t\t\t\t\t\t\t\t\n",
    "toMonth(toStartOfMonth(timest)) as MONTH,\t\t\t\n",
    "SUM(correct) as active_stud\t\t\t\t\t\t\t\n",
    "FROM default.peas\n",
    "GROUP BY MONTH,st_id,subject) AS ACT_MORE_10\n",
    "GROUP BY st_id) as A\n",
    "INNER JOIN (SELECT ACT_MORE_2.st_id,\n",
    "MAX(CASE WHEN ACT_MORE_2.active_stud >= 2 THEN 1 ELSE 0 END) AS active_M\n",
    "FROM\n",
    "(SELECT st_id,subject,\t\t\t\t\t\t\t\t\t\t\n",
    "toMonth(toStartOfMonth(timest)) as MONTH,\t\t\t\n",
    "SUM(correct) as active_stud\t\t\t\t\t\t\t\n",
    "FROM default.peas\n",
    "WHERE subject = 'Math'\n",
    "GROUP BY MONTH,st_id,subject) AS ACT_MORE_2\n",
    "GROUP BY st_id) as A_m\n",
    "ON A.st_id=A_m.st_id\n",
    "INNER JOIN -- добавляем test / control \n",
    "default.studs     \n",
    "ON A.st_id = studs.st_id\n",
    "LEFT JOIN -- добавляем оплативших\n",
    "(SELECT st_id, SUM(money) AS money,\n",
    "    1 AS any_subject,\n",
    "    MAX(CASE WHEN subject = 'Math' THEN 1 ELSE 0 END) AS math_subject\n",
    "FROM default.final_project_check fpc\n",
    "GROUP BY st_id) as C\n",
    "ON A.st_id=C.st_id\n",
    "GROUP BY test_grp\n",
    "    '''\n",
    "w_test = ph.read_clickhouse(query=w, connection=connection_default)\n",
    "w_test"
   ]
  },
  {
   "cell_type": "markdown",
   "metadata": {},
   "source": [
    "## Задание 3. Python\n",
    "**3.1 Задача**\n",
    "\n",
    "Реализуйте функцию, которая будет автоматически подгружать информацию из дополнительного файла groups_add.csv (заголовки могут отличаться) и на основании дополнительных параметров пересчитывать метрики.\n",
    "Реализуйте функцию, которая будет строить графики по получаемым метрикам."
   ]
  },
  {
   "cell_type": "code",
   "execution_count": 64,
   "metadata": {},
   "outputs": [
    {
     "data": {
      "text/html": [
       "<div>\n",
       "<style scoped>\n",
       "    .dataframe tbody tr th:only-of-type {\n",
       "        vertical-align: middle;\n",
       "    }\n",
       "\n",
       "    .dataframe tbody tr th {\n",
       "        vertical-align: top;\n",
       "    }\n",
       "\n",
       "    .dataframe thead th {\n",
       "        text-align: right;\n",
       "    }\n",
       "</style>\n",
       "<table border=\"1\" class=\"dataframe\">\n",
       "  <thead>\n",
       "    <tr style=\"text-align: right;\">\n",
       "      <th></th>\n",
       "      <th>id</th>\n",
       "      <th>grp</th>\n",
       "      <th>act</th>\n",
       "      <th>rev</th>\n",
       "      <th>payments</th>\n",
       "    </tr>\n",
       "  </thead>\n",
       "  <tbody>\n",
       "    <tr>\n",
       "      <th>0</th>\n",
       "      <td>1489</td>\n",
       "      <td>B</td>\n",
       "      <td>NaN</td>\n",
       "      <td>NaN</td>\n",
       "      <td>NaN</td>\n",
       "    </tr>\n",
       "    <tr>\n",
       "      <th>1</th>\n",
       "      <td>1627</td>\n",
       "      <td>A</td>\n",
       "      <td>1.0</td>\n",
       "      <td>990.0</td>\n",
       "      <td>1.0</td>\n",
       "    </tr>\n",
       "    <tr>\n",
       "      <th>2</th>\n",
       "      <td>1768</td>\n",
       "      <td>B</td>\n",
       "      <td>NaN</td>\n",
       "      <td>NaN</td>\n",
       "      <td>NaN</td>\n",
       "    </tr>\n",
       "    <tr>\n",
       "      <th>3</th>\n",
       "      <td>1783</td>\n",
       "      <td>B</td>\n",
       "      <td>NaN</td>\n",
       "      <td>NaN</td>\n",
       "      <td>NaN</td>\n",
       "    </tr>\n",
       "    <tr>\n",
       "      <th>4</th>\n",
       "      <td>1794</td>\n",
       "      <td>A</td>\n",
       "      <td>NaN</td>\n",
       "      <td>NaN</td>\n",
       "      <td>NaN</td>\n",
       "    </tr>\n",
       "  </tbody>\n",
       "</table>\n",
       "</div>"
      ],
      "text/plain": [
       "     id grp  act    rev  payments\n",
       "0  1489   B  NaN    NaN       NaN\n",
       "1  1627   A  1.0  990.0       1.0\n",
       "2  1768   B  NaN    NaN       NaN\n",
       "3  1783   B  NaN    NaN       NaN\n",
       "4  1794   A  NaN    NaN       NaN"
      ]
     },
     "execution_count": 64,
     "metadata": {},
     "output_type": "execute_result"
    }
   ],
   "source": [
    "#Наш рабочий ДФ\n",
    "checks = checks.rename(columns={'student_id':'id'}).assign(payments = 1)\n",
    "active_studs = active_studs.rename(columns={'student_id':'id'}).assign(act = 1)\n",
    "df_users = (groups.merge(active_studs,how='outer',on='id')\n",
    "            .merge(checks, how='outer',on='id'))\n",
    "\n",
    "df_users.head()"
   ]
  },
  {
   "cell_type": "code",
   "execution_count": 65,
   "metadata": {},
   "outputs": [],
   "source": [
    "# Получаем и сохраняем файл\n",
    "def get_data_new(link):\n",
    "    base_url = 'https://cloud-api.yandex.net/v1/disk/public/resources/download?'\n",
    "    \n",
    "    final_url = base_url + urlencode(dict(public_key=link))\n",
    "    response = requests.get(final_url)\n",
    "    download_url = response.json()['href']\n",
    "    df = pd.read_csv(download_url, sep=',')\n",
    "    \n",
    "    download_response = requests.get(download_url)\n",
    "    with open('group_2.csv', 'wb') as f:\n",
    "            f.write(download_response.content)"
   ]
  },
  {
   "cell_type": "code",
   "execution_count": 66,
   "metadata": {},
   "outputs": [],
   "source": [
    "# переименовываем колонки в зависимости от типа данных\n",
    "def columns_rename(df):\n",
    "    if str(df.iloc[0, 0]).isalpha():\n",
    "        df.columns = ['grp', 'id']\n",
    "    else:\n",
    "        df.columns = ['id', 'grp']"
   ]
  },
  {
   "cell_type": "code",
   "execution_count": 67,
   "metadata": {},
   "outputs": [],
   "source": [
    "def cal_metric(work_df, link_or_file):\n",
    "    \n",
    "    if link_or_file.startswith('https://'): #проверяем ссылка это или файл\n",
    "        \n",
    "        get_data_new(link_or_file)\n",
    "        \n",
    "        # открываем файл\n",
    "        df = pd.read_csv('group_2.csv', sep=',')\n",
    "    else:\n",
    "        df = pd.read_csv(link_or_file, sep=',')\n",
    "        \n",
    "    columns_rename(df)\n",
    "    \n",
    "    new_df = work_df.merge(df, how='outer', on = 'id')     #мержим новый и старый дф\n",
    "    new_df['grp_x'] = new_df.grp_x.fillna('')                \n",
    "    new_df['grp_y'] = new_df.grp_y.fillna('')               #убираем NaN\n",
    "    new_df['grp'] = new_df.grp_x + new_df.grp_y             #объединяем столбцы\n",
    "    new_df= new_df.drop(['grp_x','grp_y'],axis=True)        #удаляем не нужные столбцы\n",
    "    new_df =(new_df.copy().dropna(subset=['act', 'grp']))   #удаляем NA в столбцах после джоина\n",
    "    new_df['payments'] = new_df.payments.fillna(0)          #меняем NA на 0 \n",
    "    new_df['rev'] = new_df.rev.fillna(0)\n",
    "    \n",
    "    # Фильтруем данные для расчетов\n",
    "    \n",
    "    A_paid = new_df.query('grp ==\"A\"').payments               \n",
    "    B_paid = new_df.query('grp ==\"B\"').payments\n",
    "    A_rev = new_df.query('grp ==\"A\"').rev\n",
    "    B_rev = new_df.query('grp ==\"B\"').rev\n",
    "    A_rev_paid = new_df.query('rev > 0 and grp ==\"A\"').rev\n",
    "    B_rev_paid = new_df.query('rev > 0 and grp ==\"B\"').rev\n",
    "    \n",
    "        #считаем CR\n",
    "    CR_A = func(A_paid)\n",
    "    CR_B = func(B_paid)\n",
    "    CR_p_value = get_bootstrap(A_paid, B_paid,statistic=func,\n",
    "                                   graph = False,show_progress = False)[\"p_value\"]\n",
    "        # считаем ARPU\n",
    "    ARPU_A = A_rev.mean()\n",
    "    ARPU_B = B_rev.mean()\n",
    "    ARPU_p_value = get_bootstrap(A_rev, B_rev,\n",
    "                                     graph = False,\n",
    "                                     show_progress = False)[\"p_value\"]\n",
    "        #считаем ARPPU\n",
    "    ARPPU_A = A_rev_paid.mean()\n",
    "    ARPPU_B = B_rev_paid.mean()\n",
    "    ARPPU_p_value = get_bootstrap(A_rev_paid,B_rev_paid,\n",
    "                                      graph = False,\n",
    "                                      show_progress = False)[\"p_value\"]\n",
    "    #Формируем финальный df\n",
    "    Final_full_df = pd.DataFrame({\"Group\":['A','B'],\n",
    "                                  \"CR\":[CR_A,CR_B],\"ARPU\":[ARPU_A,ARPU_B],\"ARPPU\":[ARPPU_A,ARPPU_B],\n",
    "                                  \"CR_p_value\":[CR_p_value,0],\"ARPU_p_value\":[ARPU_p_value,0],\n",
    "                                  \"ARPPU_p_value\":[ARPPU_p_value,0]})\n",
    "    Final_full_df= round(Final_full_df,3)\n",
    "\n",
    "        # сбрасываем индексы\n",
    "    Final_full_df.reset_index(drop=True, inplace=True)  \n",
    "\n",
    "    return Final_full_df"
   ]
  },
  {
   "cell_type": "code",
   "execution_count": 68,
   "metadata": {},
   "outputs": [
    {
     "data": {
      "application/vnd.jupyter.widget-view+json": {
       "model_id": "ed44ad62027742d9ae74d154e4844b11",
       "version_major": 2,
       "version_minor": 0
      },
      "text/plain": [
       "HBox(children=(FloatProgress(value=0.0, max=1000.0), HTML(value='')))"
      ]
     },
     "metadata": {},
     "output_type": "display_data"
    },
    {
     "name": "stdout",
     "output_type": "stream",
     "text": [
      "\n"
     ]
    },
    {
     "data": {
      "application/vnd.jupyter.widget-view+json": {
       "model_id": "e6a6b9be35b647cf827dc596c4066204",
       "version_major": 2,
       "version_minor": 0
      },
      "text/plain": [
       "HBox(children=(FloatProgress(value=0.0, max=1000.0), HTML(value='')))"
      ]
     },
     "metadata": {},
     "output_type": "display_data"
    },
    {
     "name": "stdout",
     "output_type": "stream",
     "text": [
      "\n"
     ]
    },
    {
     "data": {
      "application/vnd.jupyter.widget-view+json": {
       "model_id": "2e0eb1906d66442aaade747925004cb8",
       "version_major": 2,
       "version_minor": 0
      },
      "text/plain": [
       "HBox(children=(FloatProgress(value=0.0, max=1000.0), HTML(value='')))"
      ]
     },
     "metadata": {},
     "output_type": "display_data"
    },
    {
     "name": "stdout",
     "output_type": "stream",
     "text": [
      "\n"
     ]
    },
    {
     "data": {
      "text/html": [
       "<div>\n",
       "<style scoped>\n",
       "    .dataframe tbody tr th:only-of-type {\n",
       "        vertical-align: middle;\n",
       "    }\n",
       "\n",
       "    .dataframe tbody tr th {\n",
       "        vertical-align: top;\n",
       "    }\n",
       "\n",
       "    .dataframe thead th {\n",
       "        text-align: right;\n",
       "    }\n",
       "</style>\n",
       "<table border=\"1\" class=\"dataframe\">\n",
       "  <thead>\n",
       "    <tr style=\"text-align: right;\">\n",
       "      <th></th>\n",
       "      <th>Group</th>\n",
       "      <th>CR</th>\n",
       "      <th>ARPU</th>\n",
       "      <th>ARPPU</th>\n",
       "      <th>CR_p_value</th>\n",
       "      <th>ARPU_p_value</th>\n",
       "      <th>ARPPU_p_value</th>\n",
       "    </tr>\n",
       "  </thead>\n",
       "  <tbody>\n",
       "    <tr>\n",
       "      <th>0</th>\n",
       "      <td>A</td>\n",
       "      <td>0.051</td>\n",
       "      <td>47.347</td>\n",
       "      <td>933.590</td>\n",
       "      <td>0.233</td>\n",
       "      <td>0.037</td>\n",
       "      <td>0.0</td>\n",
       "    </tr>\n",
       "    <tr>\n",
       "      <th>1</th>\n",
       "      <td>B</td>\n",
       "      <td>0.046</td>\n",
       "      <td>58.059</td>\n",
       "      <td>1257.879</td>\n",
       "      <td>0.000</td>\n",
       "      <td>0.000</td>\n",
       "      <td>0.0</td>\n",
       "    </tr>\n",
       "  </tbody>\n",
       "</table>\n",
       "</div>"
      ],
      "text/plain": [
       "  Group     CR    ARPU     ARPPU  CR_p_value  ARPU_p_value  ARPPU_p_value\n",
       "0     A  0.051  47.347   933.590       0.233         0.037            0.0\n",
       "1     B  0.046  58.059  1257.879       0.000         0.000            0.0"
      ]
     },
     "execution_count": 68,
     "metadata": {},
     "output_type": "execute_result"
    }
   ],
   "source": [
    "finallll = cal_metric(df_users,'https://disk.yandex.ru/d/3aARY-P9pfaksg')\n",
    "finallll"
   ]
  },
  {
   "cell_type": "code",
   "execution_count": 69,
   "metadata": {},
   "outputs": [],
   "source": [
    "def visualize_plots(df):\n",
    "    \n",
    "    sns.set_theme(style=\"dark\")\n",
    "    fig, axs = plt.subplots(ncols=3, figsize=(19, 5))\n",
    "\n",
    "    sns.barplot(x=\"Group\", y=\"CR\", data=df, ax=axs[0]).set_title('CR')\n",
    "    sns.barplot(x=\"Group\", y=\"ARPU\", data=df, ax=axs[1]).set_title('ARPU')\n",
    "    sns.barplot(x=\"Group\", y=\"ARPPU\", data=df, ax=axs[2]).set_title('ARPPU')"
   ]
  },
  {
   "cell_type": "code",
   "execution_count": 70,
   "metadata": {},
   "outputs": [
    {
     "data": {
      "image/png": "[encoded data removed]",
      "text/plain": [
       "<Figure size 1368x360 with 3 Axes>"
      ]
     },
     "metadata": {},
     "output_type": "display_data"
    }
   ],
   "source": [
    "visualize_plots(finallll)"
   ]
  },
  {
   "cell_type": "code",
   "execution_count": null,
   "metadata": {},
   "outputs": [],
   "source": []
  },
  {
   "cell_type": "code",
   "execution_count": null,
   "metadata": {},
   "outputs": [],
   "source": []
  },
  {
   "cell_type": "code",
   "execution_count": null,
   "metadata": {},
   "outputs": [],
   "source": []
  },
  {
   "cell_type": "code",
   "execution_count": null,
   "metadata": {},
   "outputs": [],
   "source": []
  },
  {
   "cell_type": "code",
   "execution_count": null,
   "metadata": {},
   "outputs": [],
   "source": []
  }
 ],
 "metadata": {
  "kernelspec": {
   "display_name": "Python 3",
   "language": "python",
   "name": "python3"
  },
  "language_info": {
   "codemirror_mode": {
    "name": "ipython",
    "version": 3
   },
   "file_extension": ".py",
   "mimetype": "text/x-python",
   "name": "python",
   "nbconvert_exporter": "python",
   "pygments_lexer": "ipython3",
   "version": "3.7.3"
  }
 },
 "nbformat": 4,
 "nbformat_minor": 4
}
